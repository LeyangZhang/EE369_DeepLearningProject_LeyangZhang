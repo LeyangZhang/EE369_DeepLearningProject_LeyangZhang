{
 "cells": [
  {
   "cell_type": "code",
   "execution_count": 2,
   "metadata": {
    "collapsed": true
   },
   "outputs": [],
   "source": [
    "from game2048.agents import Agent"
   ]
  },
  {
   "cell_type": "code",
   "execution_count": 4,
   "metadata": {
    "collapsed": true
   },
   "outputs": [],
   "source": [
    "class MyAgent(Agent):\n",
    "\n",
    "    def step(self):\n",
    "        '''To define the agent's 1-step behavior given the `game`.\n",
    "        You can find more instance in [`agents.py`](game2048/agents.py).\n",
    "        \n",
    "        :return direction: 0: left, 1: down, 2: right, 3: up\n",
    "        '''\n",
    "        direction = some_function(self.game)\n",
    "        return direction"
   ]
  },
  {
   "cell_type": "code",
   "execution_count": null,
   "metadata": {
    "collapsed": true
   },
   "outputs": [],
   "source": []
  }
 ],
 "metadata": {
  "kernelspec": {
   "display_name": "Python 3",
   "language": "python",
   "name": "python3"
  },
  "language_info": {
   "codemirror_mode": {
    "name": "ipython",
    "version": 3
   },
   "file_extension": ".py",
   "mimetype": "text/x-python",
   "name": "python",
   "nbconvert_exporter": "python",
   "pygments_lexer": "ipython3",
   "version": "3.6.2"
  }
 },
 "nbformat": 4,
 "nbformat_minor": 2
}
