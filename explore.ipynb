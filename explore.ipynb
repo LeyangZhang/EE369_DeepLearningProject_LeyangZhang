{
 "cells": [
  {
   "cell_type": "code",
   "execution_count": 1,
   "metadata": {},
   "outputs": [
    {
     "name": "stderr",
     "output_type": "stream",
     "text": [
      "Using TensorFlow backend.\n"
     ]
    }
   ],
   "source": [
    "import numpy as np\n",
    "import keras"
   ]
  },
  {
   "cell_type": "code",
   "execution_count": 2,
   "metadata": {
    "collapsed": true
   },
   "outputs": [],
   "source": [
    "from keras.datasets import mnist\n",
    "from keras.models import Sequential\n",
    "from keras.layers import Dense, Dropout, Flatten, Conv2D, MaxPooling2D,Activation"
   ]
  },
  {
   "cell_type": "code",
   "execution_count": 3,
   "metadata": {
    "collapsed": true
   },
   "outputs": [],
   "source": [
    "from game2048.game import Game\n",
    "from game2048.displays import Display, IPythonDisplay\n",
    "from game2048.agents import Agent, RandomAgent, ExpectiMaxAgent"
   ]
  },
  {
   "cell_type": "code",
   "execution_count": 29,
   "metadata": {
    "collapsed": true
   },
   "outputs": [],
   "source": [
    "display1 = Display()\n",
    "display2 = IPythonDisplay()"
   ]
  },
  {
   "cell_type": "code",
   "execution_count": null,
   "metadata": {
    "collapsed": true
   },
   "outputs": [],
   "source": [
    "[[] for _ in range(10)]"
   ]
  },
  {
   "cell_type": "code",
   "execution_count": 30,
   "metadata": {},
   "outputs": [
    {
     "name": "stdout",
     "output_type": "stream",
     "text": [
      "State:\t       0       0       0       0\n",
      "\t       0       0       4       2\n",
      "\t       0       0       0       0\n",
      "\t       0       0       0       0\n",
      "Score: 4\n"
     ]
    },
    {
     "data": {
      "text/html": [
       "<h1>Score: 4</h1><table style=\"border: 5px solid black;\"><tr><td style=\"border:3px solid black; text-align:center;\"\n",
       "         width=\"40\" height=\"40\"></td><td style=\"border:3px solid black; text-align:center;\"\n",
       "         width=\"40\" height=\"40\"></td><td style=\"border:3px solid black; text-align:center;\"\n",
       "         width=\"40\" height=\"40\"></td><td style=\"border:3px solid black; text-align:center;\"\n",
       "         width=\"40\" height=\"40\"></td></tr><tr><td style=\"border:3px solid black; text-align:center;\"\n",
       "         width=\"40\" height=\"40\"></td><td style=\"border:3px solid black; text-align:center;\"\n",
       "         width=\"40\" height=\"40\"></td><td style=\"border:3px solid black; text-align:center;\"\n",
       "         width=\"40\" height=\"40\">4</td><td style=\"border:3px solid black; text-align:center;\"\n",
       "         width=\"40\" height=\"40\">2</td></tr><tr><td style=\"border:3px solid black; text-align:center;\"\n",
       "         width=\"40\" height=\"40\"></td><td style=\"border:3px solid black; text-align:center;\"\n",
       "         width=\"40\" height=\"40\"></td><td style=\"border:3px solid black; text-align:center;\"\n",
       "         width=\"40\" height=\"40\"></td><td style=\"border:3px solid black; text-align:center;\"\n",
       "         width=\"40\" height=\"40\"></td></tr><tr><td style=\"border:3px solid black; text-align:center;\"\n",
       "         width=\"40\" height=\"40\"></td><td style=\"border:3px solid black; text-align:center;\"\n",
       "         width=\"40\" height=\"40\"></td><td style=\"border:3px solid black; text-align:center;\"\n",
       "         width=\"40\" height=\"40\"></td><td style=\"border:3px solid black; text-align:center;\"\n",
       "         width=\"40\" height=\"40\"></td></tr></table>"
      ],
      "text/plain": [
       "<IPython.core.display.HTML object>"
      ]
     },
     "metadata": {},
     "output_type": "display_data"
    },
    {
     "name": "stdout",
     "output_type": "stream",
     "text": [
      "Iter: 1\n",
      "======Direction: right======\n",
      "State:\t       0       0       0       0\n",
      "\t       0       0       4       2\n",
      "\t       0       0       0       0\n",
      "\t       0       0       0       4\n",
      "Score: 4\n",
      "Iter: 2\n",
      "======Direction: up======\n",
      "State:\t       0       0       4       2\n",
      "\t       0       0       0       4\n",
      "\t       0       2       0       0\n",
      "\t       0       0       0       0\n",
      "Score: 4\n",
      "Iter: 3\n",
      "======Direction: left======\n",
      "State:\t       4       2       0       0\n",
      "\t       4       0       0       0\n",
      "\t       2       0       0       0\n",
      "\t       0       0       2       0\n",
      "Score: 4\n",
      "Iter: 4\n",
      "======Direction: left======\n",
      "State:\t       4       2       0       0\n",
      "\t       4       2       0       0\n",
      "\t       2       0       0       0\n",
      "\t       2       0       0       0\n",
      "Score: 4\n",
      "Iter: 5\n",
      "======Direction: down======\n",
      "State:\t       0       0       0       0\n",
      "\t       0       0       2       0\n",
      "\t       8       0       0       0\n",
      "\t       4       4       0       0\n",
      "Score: 8\n",
      "Iter: 6\n",
      "======Direction: up======\n",
      "State:\t       8       4       2       0\n",
      "\t       4       0       0       0\n",
      "\t       0       0       0       0\n",
      "\t       0       0       4       0\n",
      "Score: 8\n",
      "Iter: 7\n",
      "======Direction: right======\n",
      "State:\t       0       8       4       2\n",
      "\t       0       0       0       4\n",
      "\t       0       2       0       0\n",
      "\t       0       0       0       4\n",
      "Score: 8\n",
      "Iter: 8\n",
      "======Direction: right======\n",
      "State:\t       0       8       4       2\n",
      "\t       0       2       0       4\n",
      "\t       0       0       0       2\n",
      "\t       0       0       0       4\n",
      "Score: 8\n",
      "Iter: 9\n",
      "======Direction: down======\n",
      "State:\t       0       4       0       2\n",
      "\t       0       0       0       4\n",
      "\t       0       8       0       2\n",
      "\t       0       2       4       4\n",
      "Score: 8\n",
      "Iter: 10\n",
      "======Direction: right======\n",
      "State:\t       0       0       4       2\n",
      "\t       2       0       0       4\n",
      "\t       0       0       8       2\n",
      "\t       0       0       2       8\n",
      "Score: 8\n",
      "Iter: 11\n",
      "======Direction: right======\n",
      "State:\t       4       0       4       2\n",
      "\t       0       0       2       4\n",
      "\t       0       0       8       2\n",
      "\t       0       0       2       8\n",
      "Score: 8\n",
      "Iter: 12\n",
      "======Direction: left======\n",
      "State:\t       8       2       0       0\n",
      "\t       2       4       4       0\n",
      "\t       8       2       0       0\n",
      "\t       2       8       0       0\n",
      "Score: 8\n",
      "Iter: 13\n",
      "======Direction: left======\n",
      "State:\t       8       2       0       0\n",
      "\t       2       8       0       2\n",
      "\t       8       2       0       0\n",
      "\t       2       8       0       0\n",
      "Score: 8\n",
      "Iter: 14\n",
      "======Direction: right======\n",
      "State:\t       0       4       8       2\n",
      "\t       0       2       8       2\n",
      "\t       0       0       8       2\n",
      "\t       0       0       2       8\n",
      "Score: 8\n",
      "Iter: 15\n",
      "======Direction: up======\n",
      "State:\t       0       4      16       4\n",
      "\t       0       2       8       2\n",
      "\t       4       0       2       8\n",
      "\t       0       0       0       0\n",
      "Score: 16\n",
      "Iter: 16\n",
      "======Direction: right======\n",
      "State:\t       0       4      16       4\n",
      "\t       0       2       8       2\n",
      "\t       0       4       2       8\n",
      "\t       0       4       0       0\n",
      "Score: 16\n",
      "Iter: 17\n",
      "======Direction: right======\n",
      "State:\t       0       4      16       4\n",
      "\t       0       2       8       2\n",
      "\t       0       4       2       8\n",
      "\t       2       0       0       4\n",
      "Score: 16\n",
      "Iter: 18\n",
      "======Direction: left======\n",
      "State:\t       4      16       4       0\n",
      "\t       2       8       2       0\n",
      "\t       4       2       8       0\n",
      "\t       2       4       0       4\n",
      "Score: 16\n",
      "Iter: 19\n",
      "======Direction: left======\n",
      "State:\t       4      16       4       4\n",
      "\t       2       8       2       0\n",
      "\t       4       2       8       0\n",
      "\t       2       8       0       0\n",
      "Score: 16\n",
      "Iter: 20\n",
      "======Direction: up======\n",
      "State:\t       4      16       4       4\n",
      "\t       2       8       2       0\n",
      "\t       4       2       8       0\n",
      "\t       2       8       0       2\n",
      "Score: 16\n",
      "Iter: 21\n",
      "======Direction: right======\n",
      "State:\t       0       4      16       8\n",
      "\t       0       2       8       2\n",
      "\t       0       4       2       8\n",
      "\t       2       2       8       2\n",
      "Score: 16\n",
      "Iter: 22\n",
      "======Direction: down======\n",
      "State:\t       4       4      16       8\n",
      "\t       0       2       8       2\n",
      "\t       0       4       2       8\n",
      "\t       2       2       8       2\n",
      "Score: 16\n",
      "Iter: 23\n",
      "======Direction: down======\n",
      "State:\t       4       4      16       8\n",
      "\t       0       2       8       2\n",
      "\t       4       4       2       8\n",
      "\t       2       2       8       2\n",
      "Score: 16\n",
      "Iter: 24\n",
      "======Direction: down======\n",
      "State:\t       0       4      16       8\n",
      "\t       2       2       8       2\n",
      "\t       8       4       2       8\n",
      "\t       2       2       8       2\n",
      "Score: 16\n",
      "Iter: 25\n",
      "======Direction: up======\n",
      "State:\t       2       4      16       8\n",
      "\t       8       2       8       2\n",
      "\t       2       4       2       8\n",
      "\t       4       2       8       2\n",
      "Score: 16\n",
      "Iter: 26\n",
      "======Direction: left======\n",
      "State:\t       2       4      16       8\n",
      "\t       8       2       8       2\n",
      "\t       2       4       2       8\n",
      "\t       4       2       8       2\n",
      "Score: 16\n",
      "You lose! Score: 16\n"
     ]
    }
   ],
   "source": [
    "game = Game(4, random=False)\n",
    "display1.display(game)\n",
    "display2.display(game)\n",
    "agent = RandomAgent(game, display=display1)\n",
    "agent.play(verbose=True)"
   ]
  },
  {
   "cell_type": "code",
   "execution_count": null,
   "metadata": {
    "collapsed": true
   },
   "outputs": [],
   "source": [
    "game.board"
   ]
  },
  {
   "cell_type": "code",
   "execution_count": null,
   "metadata": {
    "collapsed": true
   },
   "outputs": [],
   "source": [
    "agent.step()"
   ]
  },
  {
   "cell_type": "code",
   "execution_count": 31,
   "metadata": {
    "scrolled": true
   },
   "outputs": [
    {
     "data": {
      "text/plain": [
       "(26,)"
      ]
     },
     "execution_count": 31,
     "metadata": {},
     "output_type": "execute_result"
    }
   ],
   "source": [
    "#every movement\n",
    "y=np.array(agent.y)\n",
    "y.shape"
   ]
  },
  {
   "cell_type": "code",
   "execution_count": 13,
   "metadata": {},
   "outputs": [
    {
     "data": {
      "text/plain": [
       "array([[[  0.,   0.,   0.,   0.],\n",
       "        [  0.,   0.,   0.,   0.],\n",
       "        [  0.,   0.,   4.,   0.],\n",
       "        [  0.,   0.,   4.,   0.]],\n",
       "\n",
       "       [[  0.,   0.,   0.,   2.],\n",
       "        [  0.,   0.,   0.,   0.],\n",
       "        [  0.,   0.,   0.,   0.],\n",
       "        [  0.,   0.,   8.,   0.]],\n",
       "\n",
       "       [[  0.,   0.,   0.,   2.],\n",
       "        [  0.,   0.,   0.,   0.],\n",
       "        [  0.,   0.,   0.,   0.],\n",
       "        [  2.,   0.,   0.,   8.]],\n",
       "\n",
       "       [[  2.,   0.,   0.,   0.],\n",
       "        [  0.,   0.,   0.,   0.],\n",
       "        [  0.,   0.,   0.,   0.],\n",
       "        [  2.,   8.,   2.,   0.]],\n",
       "\n",
       "       [[  0.,   0.,   0.,   0.],\n",
       "        [  0.,   0.,   0.,   0.],\n",
       "        [  0.,   0.,   0.,   0.],\n",
       "        [  4.,   8.,   2.,   2.]],\n",
       "\n",
       "       [[  0.,   0.,   0.,   0.],\n",
       "        [  0.,   0.,   0.,   0.],\n",
       "        [  0.,   0.,   0.,   4.],\n",
       "        [  0.,   4.,   8.,   4.]],\n",
       "\n",
       "       [[  0.,   4.,   8.,   8.],\n",
       "        [  0.,   0.,   0.,   0.],\n",
       "        [  0.,   0.,   0.,   0.],\n",
       "        [  0.,   0.,   0.,   4.]],\n",
       "\n",
       "       [[  4.,  16.,   0.,   0.],\n",
       "        [  0.,   2.,   0.,   0.],\n",
       "        [  0.,   0.,   0.,   0.],\n",
       "        [  4.,   0.,   0.,   0.]],\n",
       "\n",
       "       [[  4.,  16.,   0.,   0.],\n",
       "        [  2.,   0.,   0.,   0.],\n",
       "        [  0.,   2.,   0.,   0.],\n",
       "        [  4.,   0.,   0.,   0.]],\n",
       "\n",
       "       [[  0.,   0.,   4.,  16.],\n",
       "        [  4.,   0.,   0.,   2.],\n",
       "        [  0.,   0.,   0.,   2.],\n",
       "        [  0.,   0.,   0.,   4.]],\n",
       "\n",
       "       [[  4.,  16.,   0.,   0.],\n",
       "        [  4.,   2.,   0.,   0.],\n",
       "        [  2.,   0.,   0.,   0.],\n",
       "        [  4.,   0.,   0.,   2.]],\n",
       "\n",
       "       [[  0.,   0.,   0.,   0.],\n",
       "        [  8.,   0.,   0.,   0.],\n",
       "        [  2.,  16.,   0.,   0.],\n",
       "        [  4.,   2.,   4.,   2.]],\n",
       "\n",
       "       [[  8.,  16.,   4.,   2.],\n",
       "        [  2.,   2.,   0.,   0.],\n",
       "        [  4.,   0.,   0.,   0.],\n",
       "        [  2.,   0.,   0.,   0.]],\n",
       "\n",
       "       [[  8.,  16.,   4.,   2.],\n",
       "        [  4.,   0.,   0.,   0.],\n",
       "        [  4.,   0.,   0.,   2.],\n",
       "        [  2.,   0.,   0.,   0.]],\n",
       "\n",
       "       [[  0.,   2.,   0.,   0.],\n",
       "        [  8.,   0.,   0.,   0.],\n",
       "        [  8.,   0.,   0.,   0.],\n",
       "        [  2.,  16.,   4.,   4.]],\n",
       "\n",
       "       [[ 16.,   2.,   4.,   4.],\n",
       "        [  2.,  16.,   0.,   4.],\n",
       "        [  0.,   0.,   0.,   0.],\n",
       "        [  0.,   0.,   0.,   0.]],\n",
       "\n",
       "       [[  0.,   0.,   0.,   4.],\n",
       "        [  0.,   0.,   0.,   0.],\n",
       "        [ 16.,   2.,   0.,   0.],\n",
       "        [  2.,  16.,   4.,   8.]],\n",
       "\n",
       "       [[  4.,   0.,   0.,   0.],\n",
       "        [  0.,   0.,   2.,   0.],\n",
       "        [ 16.,   2.,   0.,   0.],\n",
       "        [  2.,  16.,   4.,   8.]],\n",
       "\n",
       "       [[  4.,   0.,   2.,   0.],\n",
       "        [  2.,   0.,   0.,   0.],\n",
       "        [ 16.,   2.,   0.,   0.],\n",
       "        [  2.,  16.,   4.,   8.]],\n",
       "\n",
       "       [[  4.,   2.,   2.,   8.],\n",
       "        [  2.,  16.,   4.,   0.],\n",
       "        [ 16.,   2.,   0.,   0.],\n",
       "        [  2.,   0.,   0.,   0.]],\n",
       "\n",
       "       [[  4.,   4.,   8.,   0.],\n",
       "        [  2.,  16.,   4.,   0.],\n",
       "        [ 16.,   2.,   2.,   0.],\n",
       "        [  2.,   0.,   0.,   0.]],\n",
       "\n",
       "       [[  4.,   4.,   8.,   0.],\n",
       "        [  2.,  16.,   4.,   2.],\n",
       "        [ 16.,   2.,   2.,   0.],\n",
       "        [  2.,   0.,   0.,   0.]],\n",
       "\n",
       "       [[  0.,   4.,   8.,   8.],\n",
       "        [  2.,  16.,   4.,   2.],\n",
       "        [  0.,   0.,  16.,   4.],\n",
       "        [  0.,   0.,   0.,   2.]],\n",
       "\n",
       "       [[  4.,  16.,   0.,   0.],\n",
       "        [  2.,  16.,   4.,   2.],\n",
       "        [ 16.,   4.,   0.,   0.],\n",
       "        [  2.,   0.,   2.,   0.]],\n",
       "\n",
       "       [[  4.,   0.,   0.,   0.],\n",
       "        [  2.,   0.,   0.,   0.],\n",
       "        [ 16.,  32.,   4.,   4.],\n",
       "        [  2.,   4.,   2.,   2.]],\n",
       "\n",
       "       [[  0.,   0.,   0.,   4.],\n",
       "        [  0.,   0.,   4.,   2.],\n",
       "        [  0.,  16.,  32.,   8.],\n",
       "        [  0.,   2.,   4.,   4.]],\n",
       "\n",
       "       [[  4.,   0.,   0.,   4.],\n",
       "        [  0.,   0.,   4.,   2.],\n",
       "        [  0.,  16.,  32.,   8.],\n",
       "        [  0.,   2.,   4.,   4.]],\n",
       "\n",
       "       [[  4.,  16.,   4.,   4.],\n",
       "        [  0.,   2.,  32.,   2.],\n",
       "        [  4.,   0.,   4.,   8.],\n",
       "        [  0.,   0.,   0.,   4.]],\n",
       "\n",
       "       [[  0.,   4.,  16.,   8.],\n",
       "        [  0.,   2.,  32.,   2.],\n",
       "        [  0.,   4.,   8.,   8.],\n",
       "        [  0.,   0.,   0.,   4.]],\n",
       "\n",
       "       [[  4.,  16.,   8.,   0.],\n",
       "        [  2.,  32.,   2.,   0.],\n",
       "        [  4.,  16.,   0.,   4.],\n",
       "        [  4.,   0.,   0.,   0.]],\n",
       "\n",
       "       [[  0.,   0.,   0.,   2.],\n",
       "        [  4.,  16.,   0.,   0.],\n",
       "        [  2.,  32.,   8.,   0.],\n",
       "        [  8.,  16.,   2.,   4.]],\n",
       "\n",
       "       [[  2.,   0.,   0.,   0.],\n",
       "        [  4.,  16.,   0.,   4.],\n",
       "        [  2.,  32.,   8.,   0.],\n",
       "        [  8.,  16.,   2.,   4.]],\n",
       "\n",
       "       [[  2.,   0.,   2.,   0.],\n",
       "        [  4.,  16.,   0.,   0.],\n",
       "        [  2.,  32.,   8.,   0.],\n",
       "        [  8.,  16.,   2.,   8.]],\n",
       "\n",
       "       [[  2.,  16.,   2.,   8.],\n",
       "        [  4.,  32.,   8.,   0.],\n",
       "        [  2.,  16.,   2.,   0.],\n",
       "        [  8.,   2.,   0.,   0.]],\n",
       "\n",
       "       [[  2.,  16.,   2.,   8.],\n",
       "        [  4.,  32.,   8.,   0.],\n",
       "        [  2.,  16.,   2.,   0.],\n",
       "        [  8.,   2.,   0.,   4.]],\n",
       "\n",
       "       [[  2.,  16.,   0.,   0.],\n",
       "        [  4.,  32.,   2.,   4.],\n",
       "        [  2.,  16.,   8.,   8.],\n",
       "        [  8.,   2.,   2.,   4.]],\n",
       "\n",
       "       [[  2.,  16.,   0.,   0.],\n",
       "        [  4.,  32.,   2.,   4.],\n",
       "        [  2.,  16.,  16.,   0.],\n",
       "        [  8.,   4.,   4.,   2.]],\n",
       "\n",
       "       [[  2.,  16.,   2.,   4.],\n",
       "        [  4.,  32.,  16.,   2.],\n",
       "        [  2.,  16.,   4.,   2.],\n",
       "        [  8.,   4.,   0.,   0.]],\n",
       "\n",
       "       [[  2.,  16.,   2.,   4.],\n",
       "        [  4.,  32.,  16.,   4.],\n",
       "        [  2.,  16.,   4.,   2.],\n",
       "        [  8.,   4.,   0.,   0.]],\n",
       "\n",
       "       [[  2.,  16.,   0.,   2.],\n",
       "        [  4.,  32.,   2.,   0.],\n",
       "        [  2.,  16.,  16.,   8.],\n",
       "        [  8.,   4.,   4.,   2.]],\n",
       "\n",
       "       [[  0.,   2.,  16.,   2.],\n",
       "        [  0.,   4.,  32.,   2.],\n",
       "        [  0.,   2.,  32.,   8.],\n",
       "        [  4.,   8.,   8.,   2.]],\n",
       "\n",
       "       [[  0.,   2.,   0.,   0.],\n",
       "        [  2.,   4.,  16.,   4.],\n",
       "        [  0.,   2.,  64.,   8.],\n",
       "        [  4.,   8.,   8.,   2.]],\n",
       "\n",
       "       [[  2.,   2.,  16.,   4.],\n",
       "        [  4.,   4.,  64.,   8.],\n",
       "        [  0.,   2.,   8.,   2.],\n",
       "        [  0.,   8.,   4.,   0.]],\n",
       "\n",
       "       [[  0.,   4.,  16.,   4.],\n",
       "        [  0.,   8.,  64.,   8.],\n",
       "        [  0.,   2.,   8.,   2.],\n",
       "        [  0.,   4.,   8.,   4.]],\n",
       "\n",
       "       [[  4.,  16.,   4.,   0.],\n",
       "        [  8.,  64.,   8.,   0.],\n",
       "        [  2.,   8.,   2.,   2.],\n",
       "        [  4.,   8.,   4.,   0.]],\n",
       "\n",
       "       [[  4.,   4.,   4.,   0.],\n",
       "        [  8.,  16.,   8.,   0.],\n",
       "        [  2.,  64.,   2.,   0.],\n",
       "        [  4.,  16.,   4.,   2.]],\n",
       "\n",
       "       [[  0.,   2.,   4.,   8.],\n",
       "        [  0.,   8.,  16.,   8.],\n",
       "        [  0.,   2.,  64.,   2.],\n",
       "        [  4.,  16.,   4.,   2.]],\n",
       "\n",
       "       [[  2.,   4.,   8.,   0.],\n",
       "        [  8.,  16.,   8.,   4.],\n",
       "        [  2.,  64.,   2.,   0.],\n",
       "        [  4.,  16.,   4.,   2.]],\n",
       "\n",
       "       [[  4.,   2.,   4.,   8.],\n",
       "        [  8.,  16.,   8.,   4.],\n",
       "        [  0.,   2.,  64.,   2.],\n",
       "        [  4.,  16.,   4.,   2.]],\n",
       "\n",
       "       [[  4.,   2.,   4.,   8.],\n",
       "        [  8.,  16.,   8.,   4.],\n",
       "        [  2.,   2.,  64.,   2.],\n",
       "        [  4.,  16.,   4.,   2.]],\n",
       "\n",
       "       [[  4.,   2.,   4.,   4.],\n",
       "        [  8.,  16.,   8.,   8.],\n",
       "        [  2.,   2.,  64.,   4.],\n",
       "        [  4.,  16.,   4.,   4.]],\n",
       "\n",
       "       [[  4.,   2.,   8.,   0.],\n",
       "        [  8.,  16.,  16.,   0.],\n",
       "        [  4.,  64.,   4.,   0.],\n",
       "        [  4.,  16.,   8.,   2.]],\n",
       "\n",
       "       [[  4.,   2.,   8.,   2.],\n",
       "        [  8.,  16.,  16.,   0.],\n",
       "        [  8.,  64.,   4.,   0.],\n",
       "        [  2.,  16.,   8.,   0.]],\n",
       "\n",
       "       [[  4.,   2.,   8.,   2.],\n",
       "        [ 16.,  16.,  16.,   0.],\n",
       "        [  2.,  64.,   4.,   2.],\n",
       "        [  0.,  16.,   8.,   0.]],\n",
       "\n",
       "       [[  4.,   2.,   8.,   2.],\n",
       "        [ 32.,  16.,   0.,   0.],\n",
       "        [  2.,  64.,   4.,   2.],\n",
       "        [ 16.,   8.,   4.,   0.]],\n",
       "\n",
       "       [[  4.,   2.,   8.,   2.],\n",
       "        [  0.,   0.,  32.,  16.],\n",
       "        [  2.,  64.,   4.,   2.],\n",
       "        [  2.,  16.,   8.,   4.]],\n",
       "\n",
       "       [[  4.,   2.,   8.,   2.],\n",
       "        [  0.,   4.,  32.,  16.],\n",
       "        [  2.,  64.,   4.,   2.],\n",
       "        [  2.,  16.,   8.,   4.]],\n",
       "\n",
       "       [[  4.,   2.,   8.,   2.],\n",
       "        [  2.,   4.,  32.,  16.],\n",
       "        [  2.,  64.,   4.,   2.],\n",
       "        [  2.,  16.,   8.,   4.]],\n",
       "\n",
       "       [[  4.,   2.,   8.,   2.],\n",
       "        [  4.,   4.,  32.,  16.],\n",
       "        [  2.,  64.,   4.,   2.],\n",
       "        [  2.,  16.,   8.,   4.]],\n",
       "\n",
       "       [[  4.,   2.,   8.,   2.],\n",
       "        [  4.,   8.,  32.,  16.],\n",
       "        [  2.,  64.,   4.,   2.],\n",
       "        [  2.,  16.,   8.,   4.]]])"
      ]
     },
     "execution_count": 13,
     "metadata": {},
     "output_type": "execute_result"
    }
   ],
   "source": [
    "#corresponding game board\n",
    "agent.x"
   ]
  },
  {
   "cell_type": "code",
   "execution_count": null,
   "metadata": {
    "collapsed": true,
    "scrolled": true
   },
   "outputs": [],
   "source": [
    "game = Game(4, random=False)\n",
    "agent = Agent(game, display=display2)\n",
    "agent.play(verbose=True)"
   ]
  },
  {
   "cell_type": "code",
   "execution_count": 47,
   "metadata": {
    "collapsed": true
   },
   "outputs": [],
   "source": [
    "arrxx=np.empty((0,4,4))\n",
    "arryy=np.empty((0,))\n",
    "for i in range(1,1):\n",
    "    game=Game(4,score_to_win=2048,random=False)\n",
    "    agent=ExpectiMaxAgent(game,display=None)\n",
    "    agent.play(verbose=False)\n",
    "    arrxx=np.concatenate((arrxx,agent.x),axis=0)\n",
    "    y=np.array(agent.y)\n",
    "    arryy=np.concatenate((arryy,y),axis=0)"
   ]
  },
  {
   "cell_type": "code",
   "execution_count": 49,
   "metadata": {
    "scrolled": true
   },
   "outputs": [
    {
     "data": {
      "text/plain": [
       "(27994, 4, 4)"
      ]
     },
     "execution_count": 49,
     "metadata": {},
     "output_type": "execute_result"
    }
   ],
   "source": [
    "arrxx.shape"
   ]
  },
  {
   "cell_type": "code",
   "execution_count": 50,
   "metadata": {
    "scrolled": true
   },
   "outputs": [
    {
     "data": {
      "text/plain": [
       "(27994,)"
      ]
     },
     "execution_count": 50,
     "metadata": {},
     "output_type": "execute_result"
    }
   ],
   "source": [
    "arryy.shape"
   ]
  },
  {
   "cell_type": "code",
   "execution_count": 51,
   "metadata": {
    "collapsed": true
   },
   "outputs": [],
   "source": [
    "np.save('arrxx_test',arrxx)\n",
    "np.save('arryy_test',arryy)"
   ]
  },
  {
   "cell_type": "code",
   "execution_count": null,
   "metadata": {
    "collapsed": true
   },
   "outputs": [],
   "source": []
  },
  {
   "cell_type": "code",
   "execution_count": 4,
   "metadata": {
    "collapsed": true
   },
   "outputs": [],
   "source": [
    "arrxx_test=np.load('arrxx_test.npy')\n",
    "arryy_test=np.load('arryy_test.npy')\n",
    "arrxx_train=np.load('arrxx.npy')\n",
    "arryy_train=np.load('arryy.npy')"
   ]
  },
  {
   "cell_type": "code",
   "execution_count": 15,
   "metadata": {},
   "outputs": [
    {
     "data": {
      "text/plain": [
       "(27994, 4, 4)"
      ]
     },
     "execution_count": 15,
     "metadata": {},
     "output_type": "execute_result"
    }
   ],
   "source": [
    "arrxx_test.shape"
   ]
  },
  {
   "cell_type": "code",
   "execution_count": 18,
   "metadata": {
    "collapsed": true
   },
   "outputs": [],
   "source": [
    "#input a 3-D array\n",
    "def grid_ohe(arr):\n",
    "    \n",
    "    CAND=16\n",
    "    map_table={2**i:i for i in range(1,CAND)}\n",
    "    map_table[0]=0\n",
    "    \n",
    "    ret=np.zeros(shape=arr.shape+(CAND,),dtype=bool)\n",
    "    for a in range(arr.shape[0]):\n",
    "        for b in range(arr.shape[1]):\n",
    "            for c in range(arr.shape[2]):\n",
    "                ret[a,b,c,map_table[arr[a,b,c]]]=1\n",
    "    return ret            "
   ]
  },
  {
   "cell_type": "code",
   "execution_count": 19,
   "metadata": {
    "scrolled": true
   },
   "outputs": [
    {
     "data": {
      "text/plain": [
       "(27994, 4, 4, 16)"
      ]
     },
     "execution_count": 19,
     "metadata": {},
     "output_type": "execute_result"
    }
   ],
   "source": [
    "arrxx_test_ohe=grid_ohe(arrxx_test)\n",
    "arrxx_test_ohe.shape"
   ]
  },
  {
   "cell_type": "code",
   "execution_count": 8,
   "metadata": {
    "scrolled": true
   },
   "outputs": [
    {
     "data": {
      "text/plain": [
       "(107494, 4, 4, 16)"
      ]
     },
     "execution_count": 8,
     "metadata": {},
     "output_type": "execute_result"
    }
   ],
   "source": [
    "arrxx_train_ohe=grid_ohe(arrxx_train)\n",
    "arrxx_train_ohe.shape"
   ]
  },
  {
   "cell_type": "code",
   "execution_count": 9,
   "metadata": {},
   "outputs": [
    {
     "data": {
      "text/plain": [
       "False"
      ]
     },
     "execution_count": 9,
     "metadata": {},
     "output_type": "execute_result"
    }
   ],
   "source": [
    "arrxx_ohe[1,1,1,1]"
   ]
  },
  {
   "cell_type": "code",
   "execution_count": 17,
   "metadata": {},
   "outputs": [
    {
     "data": {
      "text/plain": [
       "(27994,)"
      ]
     },
     "execution_count": 17,
     "metadata": {},
     "output_type": "execute_result"
    }
   ],
   "source": [
    "arryy.shape"
   ]
  },
  {
   "cell_type": "code",
   "execution_count": 9,
   "metadata": {},
   "outputs": [
    {
     "data": {
      "text/plain": [
       "(27994, 4)"
      ]
     },
     "execution_count": 9,
     "metadata": {},
     "output_type": "execute_result"
    }
   ],
   "source": [
    "arryy_test_ohe=keras.utils.to_categorical(arryy_test)\n",
    "arryy_test_ohe.shape"
   ]
  },
  {
   "cell_type": "code",
   "execution_count": 10,
   "metadata": {},
   "outputs": [
    {
     "data": {
      "text/plain": [
       "(107494, 4)"
      ]
     },
     "execution_count": 10,
     "metadata": {},
     "output_type": "execute_result"
    }
   ],
   "source": [
    "arryy_train_ohe=keras.utils.to_categorical(arryy_train)\n",
    "arryy_train_ohe.shape"
   ]
  },
  {
   "cell_type": "code",
   "execution_count": 27,
   "metadata": {},
   "outputs": [
    {
     "name": "stdout",
     "output_type": "stream",
     "text": [
      "_________________________________________________________________\n",
      "Layer (type)                 Output Shape              Param #   \n",
      "=================================================================\n",
      "conv2d_6 (Conv2D)            (None, 4, 4, 128)         8320      \n",
      "_________________________________________________________________\n",
      "dropout_7 (Dropout)          (None, 4, 4, 128)         0         \n",
      "_________________________________________________________________\n",
      "conv2d_7 (Conv2D)            (None, 4, 4, 128)         65664     \n",
      "_________________________________________________________________\n",
      "dropout_8 (Dropout)          (None, 4, 4, 128)         0         \n",
      "_________________________________________________________________\n",
      "conv2d_8 (Conv2D)            (None, 4, 4, 128)         65664     \n",
      "_________________________________________________________________\n",
      "dropout_9 (Dropout)          (None, 4, 4, 128)         0         \n",
      "_________________________________________________________________\n",
      "conv2d_9 (Conv2D)            (None, 4, 4, 128)         147584    \n",
      "_________________________________________________________________\n",
      "dropout_10 (Dropout)         (None, 4, 4, 128)         0         \n",
      "_________________________________________________________________\n",
      "conv2d_10 (Conv2D)           (None, 4, 4, 128)         262272    \n",
      "_________________________________________________________________\n",
      "dropout_11 (Dropout)         (None, 4, 4, 128)         0         \n",
      "_________________________________________________________________\n",
      "flatten_2 (Flatten)          (None, 2048)              0         \n",
      "_________________________________________________________________\n",
      "dense_3 (Dense)              (None, 64)                131136    \n",
      "_________________________________________________________________\n",
      "dropout_12 (Dropout)         (None, 64)                0         \n",
      "_________________________________________________________________\n",
      "dense_4 (Dense)              (None, 4)                 260       \n",
      "=================================================================\n",
      "Total params: 680,900\n",
      "Trainable params: 680,900\n",
      "Non-trainable params: 0\n",
      "_________________________________________________________________\n"
     ]
    }
   ],
   "source": [
    "# define the RNN model\n",
    "model = Sequential()\n",
    "\n",
    "model.add(Conv2D(128, (1, 4),padding='SAME', activation='relu', input_shape=(4, 4, 16),kernel_initializer='he_uniform'))\n",
    "model.add(Dropout(0.2))\n",
    "model.add(Conv2D(128, (4, 1),padding='SAME', activation='relu',kernel_initializer='he_uniform'))\n",
    "model.add(Dropout(0.2))\n",
    "model.add(Conv2D(128, (2, 2),padding='SAME', activation='relu',kernel_initializer='he_uniform'))\n",
    "model.add(Dropout(0.2))\n",
    "model.add(Conv2D(128, (3, 3),padding='SAME', activation='relu',kernel_initializer='he_uniform'))\n",
    "model.add(Dropout(0.2))\n",
    "model.add(Conv2D(128, (4, 4),padding='SAME', activation='relu',kernel_initializer='he_uniform'))\n",
    "model.add(Dropout(0.2))\n",
    "model.add(Flatten())\n",
    "model.add(Dense(64, activation='relu'))\n",
    "model.add(Dropout(0.2))\n",
    "model.add(Dense(4, activation='softmax'))\n",
    "\n",
    "model.summary()\n",
    "# define the object function, optimizer and metrics\n",
    "model.compile(loss='categorical_crossentropy',\n",
    "              optimizer='adam',\n",
    "              metrics=['accuracy'])\n"
   ]
  },
  {
   "cell_type": "code",
   "execution_count": 12,
   "metadata": {},
   "outputs": [
    {
     "name": "stdout",
     "output_type": "stream",
     "text": [
      "Train on 107494 samples, validate on 27994 samples\n",
      "Epoch 1/15\n",
      "107494/107494 [==============================] - 154s 1ms/step - loss: 1.1606 - acc: 0.3914 - val_loss: 1.1108 - val_acc: 0.4176\n",
      "Epoch 2/15\n",
      "107494/107494 [==============================] - 154s 1ms/step - loss: 1.1055 - acc: 0.4235 - val_loss: 1.0868 - val_acc: 0.4378\n",
      "Epoch 3/15\n",
      "107494/107494 [==============================] - 153s 1ms/step - loss: 1.0792 - acc: 0.4513 - val_loss: 1.0582 - val_acc: 0.4673\n",
      "Epoch 4/15\n",
      "107494/107494 [==============================] - 168s 2ms/step - loss: 1.0510 - acc: 0.4737 - val_loss: 1.0248 - val_acc: 0.4932\n",
      "Epoch 5/15\n",
      "107494/107494 [==============================] - 180s 2ms/step - loss: 1.0205 - acc: 0.4963 - val_loss: 0.9920 - val_acc: 0.5170\n",
      "Epoch 6/15\n",
      "107494/107494 [==============================] - 296s 3ms/step - loss: 0.9937 - acc: 0.5144 - val_loss: 0.9709 - val_acc: 0.5289\n",
      "Epoch 7/15\n",
      "107494/107494 [==============================] - 197s 2ms/step - loss: 0.9689 - acc: 0.5291 - val_loss: 0.9511 - val_acc: 0.5429\n",
      "Epoch 8/15\n",
      "107494/107494 [==============================] - 181s 2ms/step - loss: 0.9512 - acc: 0.5414 - val_loss: 0.9304 - val_acc: 0.5539\n",
      "Epoch 9/15\n",
      "107494/107494 [==============================] - 161s 1ms/step - loss: 0.9322 - acc: 0.5513 - val_loss: 0.9148 - val_acc: 0.5694\n",
      "Epoch 10/15\n",
      "107494/107494 [==============================] - 168s 2ms/step - loss: 0.9152 - acc: 0.5617 - val_loss: 0.9099 - val_acc: 0.5708\n",
      "Epoch 11/15\n",
      "107494/107494 [==============================] - 164s 2ms/step - loss: 0.9022 - acc: 0.5683 - val_loss: 0.8877 - val_acc: 0.5792\n",
      "Epoch 12/15\n",
      "107494/107494 [==============================] - 185s 2ms/step - loss: 0.8865 - acc: 0.5783 - val_loss: 0.8831 - val_acc: 0.5819\n",
      "Epoch 13/15\n",
      "107494/107494 [==============================] - 192s 2ms/step - loss: 0.8757 - acc: 0.5832 - val_loss: 0.8754 - val_acc: 0.5858\n",
      "Epoch 14/15\n",
      "107494/107494 [==============================] - 173s 2ms/step - loss: 0.8665 - acc: 0.5866 - val_loss: 0.8642 - val_acc: 0.5895\n",
      "Epoch 15/15\n",
      "107494/107494 [==============================] - 179s 2ms/step - loss: 0.8538 - acc: 0.5945 - val_loss: 0.8604 - val_acc: 0.5977\n"
     ]
    },
    {
     "data": {
      "text/plain": [
       "<keras.callbacks.History at 0x7f9636202518>"
      ]
     },
     "execution_count": 12,
     "metadata": {},
     "output_type": "execute_result"
    }
   ],
   "source": [
    "# train\n",
    "model.fit(arrxx_train_ohe, arryy_train_ohe,\n",
    "                    batch_size = 128, \n",
    "                    epochs = 15,\n",
    "                    verbose =1,\n",
    "                    validation_data = (arrxx_test_ohe, arryy_test_ohe))"
   ]
  },
  {
   "cell_type": "code",
   "execution_count": 13,
   "metadata": {},
   "outputs": [
    {
     "name": "stdout",
     "output_type": "stream",
     "text": [
      "Training loss: 0.7424, Training accuracy: 0.6494\n",
      "Testing loss: 0.8604, Testing accuracy: 0.5977\n"
     ]
    }
   ],
   "source": [
    "score_train =model.evaluate(arrxx_train_ohe, arryy_train_ohe, verbose=0)\n",
    "score_test =model.evaluate(arrxx_test_ohe, arryy_test_ohe, verbose=0)\n",
    "print('Training loss: %.4f, Training accuracy: %.4f' % (score_train[0],score_train[1]))\n",
    "print('Testing loss: %.4f, Testing accuracy: %.4f' % (score_test[0],score_test[1]))"
   ]
  },
  {
   "cell_type": "code",
   "execution_count": 26,
   "metadata": {
    "collapsed": true
   },
   "outputs": [],
   "source": [
    "#save model\n",
    "from keras.models import load_model\n",
    "model.save('my_model.h5')"
   ]
  },
  {
   "cell_type": "code",
   "execution_count": 75,
   "metadata": {
    "collapsed": true
   },
   "outputs": [],
   "source": [
    "del model  # deletes the existing model"
   ]
  },
  {
   "cell_type": "code",
   "execution_count": 77,
   "metadata": {
    "collapsed": true
   },
   "outputs": [],
   "source": [
    "model = load_model('my_model.h5')"
   ]
  },
  {
   "cell_type": "code",
   "execution_count": 22,
   "metadata": {},
   "outputs": [
    {
     "data": {
      "text/plain": [
       "(1, 4, 4, 16)"
      ]
     },
     "execution_count": 22,
     "metadata": {},
     "output_type": "execute_result"
    }
   ],
   "source": [
    "x=np.expand_dims(arrxx_test_ohe[0],axis=0)\n",
    "x.shape"
   ]
  },
  {
   "cell_type": "code",
   "execution_count": 24,
   "metadata": {},
   "outputs": [
    {
     "data": {
      "text/plain": [
       "1"
      ]
     },
     "execution_count": 24,
     "metadata": {},
     "output_type": "execute_result"
    }
   ],
   "source": [
    "model.predict_classes(x)[0]"
   ]
  },
  {
   "cell_type": "code",
   "execution_count": null,
   "metadata": {
    "collapsed": true
   },
   "outputs": [],
   "source": [
    "class MyAgent(Agent):\n",
    "\n",
    "    def step(self):\n",
    "        '''To define the agent's 1-step behavior given the `game`.\n",
    "        You can find more instance in [`agents.py`](game2048/agents.py).\n",
    "        \n",
    "        :return direction: 0: left, 1: down, 2: right, 3: up\n",
    "        '''\n",
    "        direction = some_function(self.game)\n",
    "        return direction"
   ]
  },
  {
   "cell_type": "code",
   "execution_count": 18,
   "metadata": {},
   "outputs": [
    {
     "data": {
      "text/html": [
       "<h1>Score: 4</h1><table style=\"border: 5px solid black;\"><tr><td style=\"border:3px solid black; text-align:center;\"\n",
       "         width=\"40\" height=\"40\"></td><td style=\"border:3px solid black; text-align:center;\"\n",
       "         width=\"40\" height=\"40\">4</td><td style=\"border:3px solid black; text-align:center;\"\n",
       "         width=\"40\" height=\"40\"></td><td style=\"border:3px solid black; text-align:center;\"\n",
       "         width=\"40\" height=\"40\"></td></tr><tr><td style=\"border:3px solid black; text-align:center;\"\n",
       "         width=\"40\" height=\"40\"></td><td style=\"border:3px solid black; text-align:center;\"\n",
       "         width=\"40\" height=\"40\"></td><td style=\"border:3px solid black; text-align:center;\"\n",
       "         width=\"40\" height=\"40\"></td><td style=\"border:3px solid black; text-align:center;\"\n",
       "         width=\"40\" height=\"40\"></td></tr><tr><td style=\"border:3px solid black; text-align:center;\"\n",
       "         width=\"40\" height=\"40\"></td><td style=\"border:3px solid black; text-align:center;\"\n",
       "         width=\"40\" height=\"40\"></td><td style=\"border:3px solid black; text-align:center;\"\n",
       "         width=\"40\" height=\"40\"></td><td style=\"border:3px solid black; text-align:center;\"\n",
       "         width=\"40\" height=\"40\"></td></tr><tr><td style=\"border:3px solid black; text-align:center;\"\n",
       "         width=\"40\" height=\"40\"></td><td style=\"border:3px solid black; text-align:center;\"\n",
       "         width=\"40\" height=\"40\"></td><td style=\"border:3px solid black; text-align:center;\"\n",
       "         width=\"40\" height=\"40\">4</td><td style=\"border:3px solid black; text-align:center;\"\n",
       "         width=\"40\" height=\"40\"></td></tr></table>"
      ],
      "text/plain": [
       "<IPython.core.display.HTML object>"
      ]
     },
     "metadata": {},
     "output_type": "display_data"
    },
    {
     "name": "stdout",
     "output_type": "stream",
     "text": [
      "CPU times: user 5.52 s, sys: 94.4 ms, total: 5.61 s\n",
      "Wall time: 9.98 s\n"
     ]
    }
   ],
   "source": [
    "%%time\n",
    "game = Game(4, score_to_win=512, random=False)\n",
    "display2.display(game)\n",
    "agent = ExpectiMaxAgent(game, display=None)\n",
    "agent.play(verbose=False)"
   ]
  },
  {
   "cell_type": "code",
   "execution_count": 19,
   "metadata": {},
   "outputs": [
    {
     "data": {
      "text/plain": [
       "array([0, 2, 0, 0, 0, 0, 2, 2, 2, 0, 2, 2, 2, 1, 3, 2, 3, 1, 2, 2, 2, 1, 2,\n",
       "       1, 1, 2, 2, 2, 2, 1, 1, 2, 2, 1, 2, 1, 2, 1, 1, 1, 1, 1, 1, 2, 2, 1,\n",
       "       0, 1, 2, 0, 2, 1, 2, 2, 1, 2, 2, 3, 1, 2, 1, 1, 2, 0, 0, 1, 2, 2, 2,\n",
       "       1, 0, 0, 1, 0, 0, 0, 1, 2, 2, 1, 1, 2, 1, 0, 1, 1, 1, 0, 0, 0, 2, 2,\n",
       "       1, 1, 0, 2, 1, 1, 2, 1, 2, 1, 2, 2, 2, 3, 3, 1, 3, 0, 2, 2, 1, 2, 2,\n",
       "       1, 1, 2, 2, 3, 2, 1, 2, 3, 1, 3, 2, 2, 3, 2, 2, 3, 3, 2, 2, 2, 1, 1,\n",
       "       1, 2, 1, 2, 1, 2, 1, 1, 2, 2, 1, 2, 2, 1, 1, 2, 2, 2, 1, 1, 1, 2, 1,\n",
       "       1, 2, 2, 2, 2, 1, 3, 1, 2, 3, 2, 1, 2, 3, 3, 3, 1, 2, 3, 2, 3, 1, 2,\n",
       "       0, 1, 1, 0, 1, 1, 2])"
      ]
     },
     "execution_count": 19,
     "metadata": {},
     "output_type": "execute_result"
    }
   ],
   "source": [
    "#every movement\n",
    "y=np.array(agent.y)\n",
    "y"
   ]
  },
  {
   "cell_type": "code",
   "execution_count": 20,
   "metadata": {},
   "outputs": [
    {
     "data": {
      "text/plain": [
       "array([[[   0.,    4.,    0.,    0.],\n",
       "        [   0.,    0.,    0.,    0.],\n",
       "        [   0.,    0.,    0.,    0.],\n",
       "        [   0.,    0.,    4.,    0.]],\n",
       "\n",
       "       [[   4.,    0.,    0.,    0.],\n",
       "        [   0.,    0.,    0.,    0.],\n",
       "        [   0.,    0.,    0.,    0.],\n",
       "        [   4.,    0.,    0.,    2.]],\n",
       "\n",
       "       [[   0.,    0.,    0.,    4.],\n",
       "        [   0.,    0.,    0.,    0.],\n",
       "        [   0.,    0.,    0.,    0.],\n",
       "        [   2.,    0.,    4.,    2.]],\n",
       "\n",
       "       ..., \n",
       "       [[  16.,    2.,    0.,    0.],\n",
       "        [   4.,    2.,    4.,    2.],\n",
       "        [   2.,    8.,  128.,    0.],\n",
       "        [   4.,    2.,  128.,  256.]],\n",
       "\n",
       "       [[  16.,    0.,    0.,    2.],\n",
       "        [   4.,    4.,    0.,    0.],\n",
       "        [   2.,    8.,    4.,    2.],\n",
       "        [   4.,    2.,  256.,  256.]],\n",
       "\n",
       "       [[  16.,    0.,    2.,    0.],\n",
       "        [   4.,    4.,    0.,    0.],\n",
       "        [   2.,    8.,    4.,    4.],\n",
       "        [   4.,    2.,  256.,  256.]]])"
      ]
     },
     "execution_count": 20,
     "metadata": {},
     "output_type": "execute_result"
    }
   ],
   "source": [
    "#corresponding game board\n",
    "agent.x"
   ]
  },
  {
   "cell_type": "code",
   "execution_count": null,
   "metadata": {
    "collapsed": true,
    "scrolled": true
   },
   "outputs": [],
   "source": [
    "%%time\n",
    "# a random start\n",
    "game = Game(4, score_to_win=2048, random=True)\n",
    "display2.display(game)\n",
    "agent = ExpectiMaxAgent(game, display=display2)\n",
    "agent.play(verbose=True)"
   ]
  },
  {
   "cell_type": "code",
   "execution_count": null,
   "metadata": {
    "collapsed": true
   },
   "outputs": [],
   "source": [
    "for _ in range(10):\n",
    "    print(\"The ExpectiMax agent always search a fixed solution given certain board:\",\n",
    "          agent.step())"
   ]
  },
  {
   "cell_type": "code",
   "execution_count": null,
   "metadata": {
    "collapsed": true
   },
   "outputs": [],
   "source": [
    "print(\"Running the loop manually...\")\n",
    "\n",
    "game = Game(4, random=False, enable_rewrite_board=False)\n",
    "agent = RandomAgent(game)\n",
    "\n",
    "for _ in range(10):\n",
    "    direction = agent.step()\n",
    "    print(\"Moving to direction `%s`...\"%direction)\n",
    "    game.move(direction)\n",
    "    display1.display(game)\n",
    "    display2.display(game)"
   ]
  },
  {
   "cell_type": "code",
   "execution_count": null,
   "metadata": {
    "collapsed": true
   },
   "outputs": [],
   "source": [
    "game.board = game.board"
   ]
  },
  {
   "cell_type": "code",
   "execution_count": null,
   "metadata": {
    "collapsed": true
   },
   "outputs": [],
   "source": [
    "game.enable_rewrite_board = True"
   ]
  },
  {
   "cell_type": "code",
   "execution_count": 79,
   "metadata": {},
   "outputs": [
    {
     "ename": "NameError",
     "evalue": "name 'game' is not defined",
     "output_type": "error",
     "traceback": [
      "\u001b[0;31m---------------------------------------------------------------------------\u001b[0m",
      "\u001b[0;31mNameError\u001b[0m                                 Traceback (most recent call last)",
      "\u001b[0;32m<ipython-input-79-0256b263d41a>\u001b[0m in \u001b[0;36m<module>\u001b[0;34m()\u001b[0m\n\u001b[0;32m----> 1\u001b[0;31m \u001b[0mgame\u001b[0m\u001b[0;34m.\u001b[0m\u001b[0mboard\u001b[0m \u001b[0;34m=\u001b[0m \u001b[0mgame\u001b[0m\u001b[0;34m.\u001b[0m\u001b[0mboard\u001b[0m\u001b[0;34m\u001b[0m\u001b[0m\n\u001b[0m",
      "\u001b[0;31mNameError\u001b[0m: name 'game' is not defined"
     ]
    }
   ],
   "source": [
    "game.board = game.board"
   ]
  },
  {
   "cell_type": "code",
   "execution_count": 80,
   "metadata": {},
   "outputs": [
    {
     "ename": "NameError",
     "evalue": "name 'game' is not defined",
     "output_type": "error",
     "traceback": [
      "\u001b[0;31m---------------------------------------------------------------------------\u001b[0m",
      "\u001b[0;31mNameError\u001b[0m                                 Traceback (most recent call last)",
      "\u001b[0;32m<ipython-input-80-60f3595cfb3e>\u001b[0m in \u001b[0;36m<module>\u001b[0;34m()\u001b[0m\n\u001b[0;32m----> 1\u001b[0;31m \u001b[0mgame\u001b[0m\u001b[0;34m.\u001b[0m\u001b[0mboard\u001b[0m\u001b[0;34m\u001b[0m\u001b[0m\n\u001b[0m",
      "\u001b[0;31mNameError\u001b[0m: name 'game' is not defined"
     ]
    }
   ],
   "source": [
    "game.board"
   ]
  },
  {
   "cell_type": "code",
   "execution_count": 20,
   "metadata": {},
   "outputs": [
    {
     "ename": "NameError",
     "evalue": "name 'MyAgent' is not defined",
     "output_type": "error",
     "traceback": [
      "\u001b[0;31m---------------------------------------------------------------------------\u001b[0m",
      "\u001b[0;31mNameError\u001b[0m                                 Traceback (most recent call last)",
      "\u001b[0;32m<ipython-input-20-f29c39cbac2a>\u001b[0m in \u001b[0;36m<module>\u001b[0;34m()\u001b[0m\n\u001b[1;32m      3\u001b[0m \u001b[0;34m\u001b[0m\u001b[0m\n\u001b[1;32m      4\u001b[0m \u001b[0mgame\u001b[0m \u001b[0;34m=\u001b[0m \u001b[0mGame\u001b[0m\u001b[0;34m(\u001b[0m\u001b[0;36m4\u001b[0m\u001b[0;34m,\u001b[0m \u001b[0mrandom\u001b[0m\u001b[0;34m=\u001b[0m\u001b[0;32mFalse\u001b[0m\u001b[0;34m)\u001b[0m\u001b[0;34m\u001b[0m\u001b[0m\n\u001b[0;32m----> 5\u001b[0;31m \u001b[0magent\u001b[0m \u001b[0;34m=\u001b[0m \u001b[0mMyAgent\u001b[0m\u001b[0;34m(\u001b[0m\u001b[0mgame\u001b[0m\u001b[0;34m,\u001b[0m \u001b[0mdisplay\u001b[0m\u001b[0;34m=\u001b[0m\u001b[0mdisplay2\u001b[0m\u001b[0;34m)\u001b[0m\u001b[0;34m\u001b[0m\u001b[0m\n\u001b[0m\u001b[1;32m      6\u001b[0m \u001b[0magent\u001b[0m\u001b[0;34m.\u001b[0m\u001b[0mplay\u001b[0m\u001b[0;34m(\u001b[0m\u001b[0mverbose\u001b[0m\u001b[0;34m=\u001b[0m\u001b[0;32mTrue\u001b[0m\u001b[0;34m)\u001b[0m\u001b[0;34m\u001b[0m\u001b[0m\n",
      "\u001b[0;31mNameError\u001b[0m: name 'MyAgent' is not defined"
     ]
    }
   ],
   "source": [
    "display1 = Display()\n",
    "display2 = IPythonDisplay()\n",
    "\n",
    "game = Game(4, random=False)\n",
    "agent = MyAgent(game, display=display2)\n",
    "agent.play(verbose=True)"
   ]
  }
 ],
 "metadata": {
  "kernelspec": {
   "display_name": "Python 3",
   "language": "python",
   "name": "python3"
  },
  "language_info": {
   "codemirror_mode": {
    "name": "ipython",
    "version": 3
   },
   "file_extension": ".py",
   "mimetype": "text/x-python",
   "name": "python",
   "nbconvert_exporter": "python",
   "pygments_lexer": "ipython3",
   "version": "3.6.2"
  }
 },
 "nbformat": 4,
 "nbformat_minor": 2
}
