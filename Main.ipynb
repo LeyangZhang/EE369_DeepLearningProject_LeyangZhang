{
 "cells": [
  {
   "cell_type": "code",
   "execution_count": 1,
   "metadata": {},
   "outputs": [
    {
     "name": "stderr",
     "output_type": "stream",
     "text": [
      "Using TensorFlow backend.\n"
     ]
    }
   ],
   "source": [
    "import numpy as np\n",
    "import keras\n",
    "from keras.models import load_model"
   ]
  },
  {
   "cell_type": "code",
   "execution_count": 2,
   "metadata": {
    "collapsed": true
   },
   "outputs": [],
   "source": [
    "from function import grid_ohe\n",
    "from game2048.game import Game\n",
    "from game2048.displays import Display, IPythonDisplay\n",
    "from game2048.agents import Agent, RandomAgent, ExpectiMaxAgent, MyAgent"
   ]
  },
  {
   "cell_type": "code",
   "execution_count": 3,
   "metadata": {
    "collapsed": true
   },
   "outputs": [],
   "source": [
    "from keras.datasets import mnist\n",
    "from keras.models import Sequential\n",
    "from keras.layers import Dense, Dropout, Flatten, Conv2D, MaxPooling2D,Activation"
   ]
  },
  {
   "cell_type": "code",
   "execution_count": 4,
   "metadata": {
    "collapsed": true
   },
   "outputs": [],
   "source": [
    "model = load_model('my_model.h5')"
   ]
  },
  {
   "cell_type": "code",
   "execution_count": 4,
   "metadata": {},
   "outputs": [
    {
     "name": "stdout",
     "output_type": "stream",
     "text": [
      "64\n",
      "128\n",
      "32\n",
      "16\n",
      "32\n",
      "64\n",
      "64\n",
      "64\n",
      "64\n"
     ]
    }
   ],
   "source": [
    "#try the random model\n",
    "display1 = Display()\n",
    "display2 = IPythonDisplay()\n",
    "\n",
    "\n",
    "for i in range(1,10):\n",
    "    game = Game(4, random=False)\n",
    "    agent = RandomAgent(game, display=False)\n",
    "    agent.play(verbose=False)\n",
    "    print(game.score)"
   ]
  },
  {
   "cell_type": "code",
   "execution_count": 11,
   "metadata": {
    "scrolled": true
   },
   "outputs": [
    {
     "name": "stdout",
     "output_type": "stream",
     "text": [
      "512\n",
      "1024\n",
      "256\n",
      "512\n",
      "128\n",
      "512\n",
      "1024\n",
      "1024\n",
      "1024\n",
      "512\n",
      "1024\n",
      "256\n",
      "1024\n",
      "512\n",
      "128\n",
      "256\n",
      "256\n",
      "512\n",
      "1024\n",
      "512\n",
      "1024\n",
      "1024\n",
      "512\n",
      "512\n",
      "1024\n",
      "1024\n",
      "256\n",
      "512\n",
      "512\n",
      "1024\n",
      "512\n",
      "1024\n",
      "512\n",
      "1024\n",
      "1024\n",
      "1024\n",
      "512\n",
      "1024\n",
      "1024\n",
      "1024\n",
      "512\n",
      "512\n",
      "512\n",
      "512\n",
      "1024\n",
      "512\n",
      "1024\n",
      "512\n",
      "512\n",
      "512\n",
      "1024\n",
      "1024\n",
      "512\n",
      "1024\n",
      "1024\n",
      "1024\n",
      "512\n",
      "512\n",
      "512\n",
      "1024\n",
      "512\n",
      "256\n",
      "512\n",
      "1024\n",
      "1024\n",
      "1024\n",
      "1024\n",
      "512\n",
      "1024\n",
      "1024\n",
      "1024\n",
      "512\n",
      "1024\n",
      "512\n",
      "512\n",
      "1024\n",
      "256\n",
      "512\n",
      "512\n",
      "2048\n",
      "1024\n",
      "256\n",
      "512\n",
      "1024\n",
      "1024\n",
      "128\n",
      "64\n",
      "1024\n",
      "1024\n",
      "1024\n",
      "1024\n",
      "1024\n",
      "512\n",
      "512\n",
      "512\n",
      "1024\n",
      "512\n",
      "512\n",
      "512\n",
      "1024\n",
      "1024\n",
      "512\n",
      "512\n",
      "256\n",
      "512\n",
      "512\n",
      "512\n",
      "1024\n",
      "1024\n",
      "512\n",
      "1024\n",
      "512\n",
      "1024\n",
      "1024\n",
      "512\n",
      "512\n",
      "512\n",
      "512\n",
      "1024\n",
      "1024\n",
      "512\n",
      "1024\n",
      "128\n",
      "1024\n",
      "1024\n",
      "512\n",
      "512\n",
      "512\n",
      "512\n",
      "1024\n",
      "512\n",
      "1024\n",
      "1024\n",
      "1024\n",
      "512\n",
      "1024\n",
      "512\n",
      "1024\n",
      "128\n",
      "1024\n",
      "512\n",
      "256\n",
      "1024\n",
      "256\n",
      "1024\n",
      "1024\n",
      "1024\n",
      "512\n",
      "256\n",
      "512\n",
      "512\n",
      "512\n",
      "128\n",
      "512\n",
      "1024\n",
      "512\n",
      "1024\n",
      "512\n",
      "512\n",
      "512\n",
      "1024\n",
      "512\n",
      "1024\n",
      "512\n",
      "512\n",
      "512\n",
      "1024\n",
      "1024\n",
      "512\n",
      "512\n",
      "512\n",
      "512\n",
      "512\n",
      "1024\n",
      "512\n",
      "512\n",
      "512\n",
      "512\n",
      "1024\n",
      "1024\n",
      "1024\n",
      "512\n",
      "1024\n",
      "1024\n",
      "1024\n",
      "256\n",
      "512\n",
      "1024\n",
      "512\n",
      "512\n",
      "512\n",
      "1024\n",
      "1024\n",
      "512\n",
      "512\n",
      "1024\n",
      "2048\n",
      "512\n",
      "512\n",
      "14240.0\n"
     ]
    }
   ],
   "source": [
    "#play the game and record the final scores\n",
    "display1 = Display()\n",
    "display2 = IPythonDisplay()\n",
    "ls=[]\n",
    "\n",
    "total_score=0\n",
    "for i in range(1,200):\n",
    "    game = Game(4, random=False)\n",
    "    agent = MyAgent(game, display=False)\n",
    "    agent.my_play(verbose=False)\n",
    "    ls.append(game.score)\n",
    "    print(game.score)\n",
    "    total_score=total_score+game.score\n",
    "average_score=total_score/10\n",
    "print(average_score)"
   ]
  },
  {
   "cell_type": "code",
   "execution_count": 12,
   "metadata": {},
   "outputs": [
    {
     "name": "stdout",
     "output_type": "stream",
     "text": [
      "{512: 92, 1024: 85, 256: 13, 128: 6, 2048: 2, 64: 1}\n"
     ]
    }
   ],
   "source": [
    "#find the scores distribution of my model\n",
    "count_dict = dict()\n",
    "for item in ls:\n",
    "    if item in count_dict:\n",
    "        count_dict[item] += 1\n",
    "    else:count_dict[item] = 1\n",
    "print(count_dict)"
   ]
  },
  {
   "cell_type": "code",
   "execution_count": null,
   "metadata": {
    "collapsed": true
   },
   "outputs": [],
   "source": [
    "import matplotlib.pyplot as plt\n",
    " \n",
    "x_list = count_dict.keys\n",
    "plt.bar(range(len(num_list)), num_list)\n",
    "plt.show()"
   ]
  },
  {
   "cell_type": "code",
   "execution_count": null,
   "metadata": {
    "collapsed": true
   },
   "outputs": [],
   "source": []
  },
  {
   "cell_type": "code",
   "execution_count": null,
   "metadata": {
    "collapsed": true
   },
   "outputs": [],
   "source": [
    "# the movement conducted by ExpectiMaxAgent\n",
    "MaxAgent_y=np.array(agent.y2)\n",
    "MaxAgent_y.shape"
   ]
  },
  {
   "cell_type": "code",
   "execution_count": null,
   "metadata": {
    "collapsed": true
   },
   "outputs": [],
   "source": [
    "# the board(numpy array)\n",
    "my_x=grid_ohe(agent.x)\n",
    "my_x.shape"
   ]
  },
  {
   "cell_type": "code",
   "execution_count": 10,
   "metadata": {
    "collapsed": true
   },
   "outputs": [],
   "source": [
    "# load the test data\n",
    "x_test=np.load('arrxx_test.npy')\n",
    "y_test=np.load('arryy_test.npy')\n",
    "x_test=grid_ohe(x_test)\n",
    "y_test=keras.utils.to_categorical(y_test)"
   ]
  },
  {
   "cell_type": "code",
   "execution_count": null,
   "metadata": {
    "collapsed": true
   },
   "outputs": [],
   "source": [
    "x_train=np.load('arrxx.npy')\n",
    "y_train=np.load('arryy.npy')\n",
    "x_train=grid_ohe(x_train)\n",
    "y_train=keras.utils.to_categorical(y_train)"
   ]
  },
  {
   "cell_type": "code",
   "execution_count": 4,
   "metadata": {},
   "outputs": [
    {
     "name": "stdout",
     "output_type": "stream",
     "text": [
      "_________________________________________________________________\n",
      "Layer (type)                 Output Shape              Param #   \n",
      "=================================================================\n",
      "conv2d_1 (Conv2D)            (None, 4, 4, 128)         8320      \n",
      "_________________________________________________________________\n",
      "dropout_1 (Dropout)          (None, 4, 4, 128)         0         \n",
      "_________________________________________________________________\n",
      "conv2d_2 (Conv2D)            (None, 4, 4, 128)         65664     \n",
      "_________________________________________________________________\n",
      "dropout_2 (Dropout)          (None, 4, 4, 128)         0         \n",
      "_________________________________________________________________\n",
      "conv2d_3 (Conv2D)            (None, 4, 4, 128)         65664     \n",
      "_________________________________________________________________\n",
      "dropout_3 (Dropout)          (None, 4, 4, 128)         0         \n",
      "_________________________________________________________________\n",
      "conv2d_4 (Conv2D)            (None, 4, 4, 128)         147584    \n",
      "_________________________________________________________________\n",
      "dropout_4 (Dropout)          (None, 4, 4, 128)         0         \n",
      "_________________________________________________________________\n",
      "conv2d_5 (Conv2D)            (None, 4, 4, 128)         262272    \n",
      "_________________________________________________________________\n",
      "dropout_5 (Dropout)          (None, 4, 4, 128)         0         \n",
      "_________________________________________________________________\n",
      "flatten_1 (Flatten)          (None, 2048)              0         \n",
      "_________________________________________________________________\n",
      "dense_1 (Dense)              (None, 64)                131136    \n",
      "_________________________________________________________________\n",
      "dropout_6 (Dropout)          (None, 64)                0         \n",
      "_________________________________________________________________\n",
      "dense_2 (Dense)              (None, 4)                 260       \n",
      "=================================================================\n",
      "Total params: 680,900\n",
      "Trainable params: 680,900\n",
      "Non-trainable params: 0\n",
      "_________________________________________________________________\n"
     ]
    }
   ],
   "source": [
    "# define the RNN model\n",
    "model = Sequential()\n",
    "\n",
    "model.add(Conv2D(128, (1, 4),padding='SAME', activation='relu', input_shape=(4, 4, 16),kernel_initializer='he_uniform'))\n",
    "model.add(Dropout(0.2))\n",
    "model.add(Conv2D(128, (4, 1),padding='SAME', activation='relu',kernel_initializer='he_uniform'))\n",
    "model.add(Dropout(0.2))\n",
    "model.add(Conv2D(128, (2, 2),padding='SAME', activation='relu',kernel_initializer='he_uniform'))\n",
    "model.add(Dropout(0.2))\n",
    "model.add(Conv2D(128, (3, 3),padding='SAME', activation='relu',kernel_initializer='he_uniform'))\n",
    "model.add(Dropout(0.2))\n",
    "model.add(Conv2D(128, (4, 4),padding='SAME', activation='relu',kernel_initializer='he_uniform'))\n",
    "model.add(Dropout(0.2))\n",
    "model.add(Flatten())\n",
    "model.add(Dense(64, activation='relu'))\n",
    "model.add(Dropout(0.2))\n",
    "model.add(Dense(4, activation='softmax'))\n",
    "\n",
    "model.summary()\n",
    "# define the object function, optimizer and metrics\n",
    "model.compile(loss='categorical_crossentropy',\n",
    "              optimizer='adam',\n",
    "              metrics=['accuracy'])"
   ]
  },
  {
   "cell_type": "code",
   "execution_count": null,
   "metadata": {
    "collapsed": true
   },
   "outputs": [],
   "source": [
    "# initialize a model\n",
    "model.fit(x_train, y_train,\n",
    "                    batch_size = 128, \n",
    "                    epochs = 15,\n",
    "                    verbose =1,\n",
    "                    validation_data = (x_test, y_test))"
   ]
  },
  {
   "cell_type": "code",
   "execution_count": null,
   "metadata": {
    "collapsed": true
   },
   "outputs": [],
   "source": [
    "score_train =model.evaluate(x_train, y_train, verbose=0)\n",
    "score_test =model.evaluate(x_test, y_test, verbose=0)\n",
    "print('Training loss: %.4f, Training accuracy: %.4f' % (score_train[0],score_train[1]))\n",
    "print('Testing loss: %.4f, Testing accuracy: %.4f' % (score_test[0],score_test[1]))"
   ]
  },
  {
   "cell_type": "code",
   "execution_count": null,
   "metadata": {
    "collapsed": true
   },
   "outputs": [],
   "source": [
    "# save the model\n",
    "model.save('my_model.h5')"
   ]
  },
  {
   "cell_type": "code",
   "execution_count": 8,
   "metadata": {
    "collapsed": true
   },
   "outputs": [],
   "source": [
    "model = load_model('my_model.h5')"
   ]
  },
  {
   "cell_type": "code",
   "execution_count": null,
   "metadata": {},
   "outputs": [
    {
     "name": "stdout",
     "output_type": "stream",
     "text": [
      "Loaded expectmax lib for 2048: /home/leon96/Downloads/2048-api-master/game2048/expectimax/bin/2048.so\n",
      "Epoch 1/10\n",
      "147988/147988 [==============================] - 230s 2ms/step - loss: 0.9341 - acc: 0.5465\n",
      "Epoch 2/10\n",
      "147988/147988 [==============================] - 236s 2ms/step - loss: 0.9121 - acc: 0.5540\n",
      "Epoch 3/10\n",
      "147988/147988 [==============================] - 220s 1ms/step - loss: 0.9046 - acc: 0.5606\n",
      "Epoch 4/10\n",
      "147988/147988 [==============================] - 225s 2ms/step - loss: 0.8967 - acc: 0.5678\n",
      "Epoch 5/10\n",
      "147988/147988 [==============================] - 226s 2ms/step - loss: 0.8890 - acc: 0.5699\n",
      "Epoch 6/10\n",
      "147988/147988 [==============================] - 231s 2ms/step - loss: 0.8817 - acc: 0.5744\n",
      "Epoch 7/10\n",
      "147988/147988 [==============================] - 226s 2ms/step - loss: 0.8778 - acc: 0.5757\n",
      "Epoch 8/10\n",
      "147988/147988 [==============================] - 223s 2ms/step - loss: 0.8753 - acc: 0.5793\n",
      "Epoch 9/10\n",
      "147988/147988 [==============================] - 225s 2ms/step - loss: 0.8703 - acc: 0.5813\n",
      "Epoch 10/10\n",
      "147988/147988 [==============================] - 219s 1ms/step - loss: 0.8663 - acc: 0.5840\n",
      "1\n",
      "Epoch 1/10\n",
      "151804/151804 [==============================] - 231s 2ms/step - loss: 0.9134 - acc: 0.5570\n",
      "Epoch 2/10\n",
      "151804/151804 [==============================] - 229s 2ms/step - loss: 0.9030 - acc: 0.5624\n",
      "Epoch 3/10\n",
      "151804/151804 [==============================] - 229s 2ms/step - loss: 0.8963 - acc: 0.5665\n",
      "Epoch 4/10\n",
      "151804/151804 [==============================] - 229s 2ms/step - loss: 0.8907 - acc: 0.5689\n",
      "Epoch 5/10\n",
      "151804/151804 [==============================] - 229s 2ms/step - loss: 0.8834 - acc: 0.5716\n",
      "Epoch 6/10\n",
      "151804/151804 [==============================] - 229s 2ms/step - loss: 0.8777 - acc: 0.5754\n",
      "Epoch 7/10\n",
      "151804/151804 [==============================] - 232s 2ms/step - loss: 0.8750 - acc: 0.5786\n",
      "Epoch 8/10\n",
      "151804/151804 [==============================] - 231s 2ms/step - loss: 0.8712 - acc: 0.5794\n",
      "Epoch 9/10\n",
      "151804/151804 [==============================] - 231s 2ms/step - loss: 0.8679 - acc: 0.5826\n",
      "Epoch 10/10\n",
      "151804/151804 [==============================] - 231s 2ms/step - loss: 0.8632 - acc: 0.5849\n",
      "2\n",
      "Epoch 1/10\n",
      "151726/151726 [==============================] - 263s 2ms/step - loss: 0.9123 - acc: 0.5561\n",
      "Epoch 2/10\n",
      "151726/151726 [==============================] - 253s 2ms/step - loss: 0.8992 - acc: 0.5632\n",
      "Epoch 3/10\n",
      "151726/151726 [==============================] - 248s 2ms/step - loss: 0.8951 - acc: 0.5653\n",
      "Epoch 4/10\n",
      "151726/151726 [==============================] - 265s 2ms/step - loss: 0.8869 - acc: 0.5704\n",
      "Epoch 5/10\n",
      "151726/151726 [==============================] - 245s 2ms/step - loss: 0.8837 - acc: 0.5721\n",
      "Epoch 6/10\n",
      "151726/151726 [==============================] - 256s 2ms/step - loss: 0.8770 - acc: 0.5766\n",
      "Epoch 7/10\n",
      "151726/151726 [==============================] - 271s 2ms/step - loss: 0.8743 - acc: 0.5772\n",
      "Epoch 8/10\n",
      "151726/151726 [==============================] - 249s 2ms/step - loss: 0.8701 - acc: 0.5812\n",
      "Epoch 9/10\n",
      "151726/151726 [==============================] - 256s 2ms/step - loss: 0.8660 - acc: 0.5831 0s - loss: 0.8661 - acc: 0.58\n",
      "Epoch 10/10\n",
      "151726/151726 [==============================] - 253s 2ms/step - loss: 0.8638 - acc: 0.5837\n",
      "3\n"
     ]
    }
   ],
   "source": [
    "for j in range(1,100):\n",
    "    \n",
    "    x=np.empty((0,4,4))\n",
    "    y=np.empty((0,))\n",
    "    \n",
    "    for i in range(1,50):\n",
    "        game = Game(4,score_to_win=1024, random=False)\n",
    "        agent = MyAgent(game, display=False)\n",
    "        agent.my_play(verbose=False)\n",
    "        x=np.concatenate((agent.x,x),axis=0)\n",
    "        y=np.concatenate((np.array(agent.y2),y),axis=0)\n",
    "        \n",
    "    x=grid_ohe(x)\n",
    "    y=keras.utils.to_categorical(y)\n",
    "    model.fit(x, y,batch_size = 128, epochs = 10,verbose =1, validation_data = None)\n",
    "    model.save('my_model.h5')\n",
    "    print(j)"
   ]
  },
  {
   "cell_type": "code",
   "execution_count": 4,
   "metadata": {
    "collapsed": true
   },
   "outputs": [],
   "source": [
    "model = load_model('my_model.h5')"
   ]
  },
  {
   "cell_type": "code",
   "execution_count": null,
   "metadata": {
    "collapsed": true
   },
   "outputs": [],
   "source": [
    "score_train =model.evaluate(x_train, y_train, verbose=0)\n",
    "score_test =model.evaluate(x_test, y_test, verbose=0)\n",
    "print('Training loss: %.4f, Training accuracy: %.4f' % (score_train[0],score_train[1]))\n",
    "print('Testing loss: %.4f, Testing accuracy: %.4f' % (score_test[0],score_test[1]))"
   ]
  },
  {
   "cell_type": "code",
   "execution_count": null,
   "metadata": {
    "collapsed": true
   },
   "outputs": [],
   "source": []
  }
 ],
 "metadata": {
  "kernelspec": {
   "display_name": "Python 3",
   "language": "python",
   "name": "python3"
  },
  "language_info": {
   "codemirror_mode": {
    "name": "ipython",
    "version": 3
   },
   "file_extension": ".py",
   "mimetype": "text/x-python",
   "name": "python",
   "nbconvert_exporter": "python",
   "pygments_lexer": "ipython3",
   "version": "3.6.2"
  }
 },
 "nbformat": 4,
 "nbformat_minor": 2
}
